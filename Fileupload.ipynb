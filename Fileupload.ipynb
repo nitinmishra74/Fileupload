{
  "nbformat": 4,
  "nbformat_minor": 0,
  "metadata": {
    "colab": {
      "provenance": [],
      "authorship_tag": "ABX9TyMxHE6WLcJb6p7LKcwNYTdo",
      "include_colab_link": true
    },
    "kernelspec": {
      "name": "python3",
      "display_name": "Python 3"
    },
    "language_info": {
      "name": "python"
    }
  },
  "cells": [
    {
      "cell_type": "markdown",
      "metadata": {
        "id": "view-in-github",
        "colab_type": "text"
      },
      "source": [
        "<a href=\"https://colab.research.google.com/github/nitinmishra74/fileupload/blob/main/Fileupload.ipynb\" target=\"_parent\"><img src=\"https://colab.research.google.com/assets/colab-badge.svg\" alt=\"Open In Colab\"/></a>"
      ]
    },
    {
      "cell_type": "code",
      "execution_count": 1,
      "metadata": {
        "colab": {
          "base_uri": "https://localhost:8080/"
        },
        "id": "M3z1RGbmiadp",
        "outputId": "5cfd0b7d-25e0-4bb5-ac9c-8795b332e51d"
      },
      "outputs": [
        {
          "output_type": "stream",
          "name": "stdout",
          "text": [
            "Cloning into 'fuxploider'...\n",
            "remote: Enumerating objects: 453, done.\u001b[K\n",
            "remote: Counting objects: 100% (127/127), done.\u001b[K\n",
            "remote: Compressing objects: 100% (25/25), done.\u001b[K\n",
            "remote: Total 453 (delta 110), reused 102 (delta 102), pack-reused 326 (from 1)\u001b[K\n",
            "Receiving objects: 100% (453/453), 767.47 KiB | 3.98 MiB/s, done.\n",
            "Resolving deltas: 100% (263/263), done.\n"
          ]
        }
      ],
      "source": [
        "!git clone https://github.com/almandin/fuxploider.git"
      ]
    }
  ]
}